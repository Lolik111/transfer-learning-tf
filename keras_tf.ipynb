{
 "cells": [
  {
   "cell_type": "code",
   "execution_count": 0,
   "metadata": {
    "colab": {
     "autoexec": {
      "startup": false,
      "wait_interval": 0
     }
    },
    "colab_type": "code",
    "collapsed": true,
    "id": "euztsoNv4aEI"
   },
   "outputs": [],
   "source": [
    "# Install the PyDrive wrapper & import libraries.\n",
    "# This only needs to be done once per notebook.\n",
    "!pip install -U -q PyDrive\n",
    "from pydrive.auth import GoogleAuth\n",
    "from pydrive.drive import GoogleDrive\n",
    "from google.colab import auth, files\n",
    "from oauth2client.client import GoogleCredentials\n",
    "\n",
    "\n",
    "import tensorflow as tf\n",
    "from tensorflow.python.keras.models import Model\n",
    "from tensorflow.python.keras.layers import Dense, GlobalAveragePooling2D\n",
    "from tensorflow.python.keras.applications import xception\n",
    "from tensorflow.python.keras import optimizers, metrics\n",
    "\n",
    "import os\n",
    "from os import listdir\n",
    "from os.path import isfile, join"
   ]
  },
  {
   "cell_type": "code",
   "execution_count": 0,
   "metadata": {
    "colab": {
     "autoexec": {
      "startup": false,
      "wait_interval": 0
     }
    },
    "colab_type": "code",
    "collapsed": true,
    "id": "mUWumPFbvCFg"
   },
   "outputs": [],
   "source": [
    "# Authenticate and create the PyDrive client.\n",
    "# This only needs to be done once per notebook.\n",
    "auth.authenticate_user()\n",
    "gauth = GoogleAuth()\n",
    "gauth.credentials = GoogleCredentials.get_application_default()\n",
    "drive = GoogleDrive(gauth)"
   ]
  },
  {
   "cell_type": "code",
   "execution_count": 0,
   "metadata": {
    "cellView": "both",
    "colab": {
     "autoexec": {
      "startup": false,
      "wait_interval": 0
     }
    },
    "colab_type": "code",
    "collapsed": true,
    "id": "wbQhhJRElbOR"
   },
   "outputs": [],
   "source": [
    "#@title Don't touch it on working machine\n",
    "!mkdir train\n",
    "!mkdir test\n",
    "!mkdir out\n",
    "\n",
    "# Download a file based on its file ID.\n",
    "#\n",
    "files = ['10bcf4_bV-B_GmX_40BDjD7BZjRve-ciw',\n",
    "'1gdTW4bRF9reGffYwgQoKSfqMjjXoWKNq',\n",
    "'1-4VuiQHr0mCu8IK28ACPYDxpouxKUNvo',\n",
    "'19meBzmNDy570ch88u812KuEFXsyt4yPc',\n",
    "'1Z8bY6e-LWdVd6y-TP3qEe75AURytvGxY',\n",
    "'1-PpJOwSCbpleYD0Ss81Sm6k-mQvpQx7L',\n",
    "'1PsUeYCptA1RTpSvQAk7vidPIy5qX0KTN',\n",
    "'1Qvl-jozmmU2YqOt395Beuuph4ivYJb0T',\n",
    "'1QZjABkrELGxL7fwYXXD0gKammp86bhhn',\n",
    "'1ePsQIhQUMPFC7VdFzOhIY0Uf5fZO2igU',\n",
    "'1RniG4-dOuyBCmTRjfSCH4XWblGs4_wLW',\n",
    "'1_MqKcZQqzvIWTo3A1y5V54G2ewcDhbEY']\n",
    "for i in range(12):\n",
    "    file_id = files[i]\n",
    "    downloaded = drive.CreateFile({'id': file_id})\n",
    "    downloaded.GetContentFile('train/train-' + str(i))\n",
    "    \n",
    "files_test = ['1BbRXZNOEeumC5M-I5g1UMp0wmqm-lAb5',\n",
    "'1VEBbO1u5r6mmTAf-WzELwtztVLRwSI11',\n",
    "'1xb9YunpLd4yEjXflhD2JqJ3I-6mmxDIA',\n",
    "'19fbyBie2MWeUWYBnz31ztxJeACkEzK-f',\n",
    "'1ZB6C9dd8oh-gPxGHZPyj57G9tJklcrks',\n",
    "'13OUxXuy-5XD_9YEXSyMqub2kgv9O9mYg']\n",
    "for i in range(6):\n",
    "    file_id = files_test[i]\n",
    "    downloaded = drive.CreateFile({'id': file_id})\n",
    "    downloaded.GetContentFile('test/test-' + str(i))"
   ]
  },
  {
   "cell_type": "code",
   "execution_count": 3,
   "metadata": {
    "colab": {
     "autoexec": {
      "startup": false,
      "wait_interval": 0
     },
     "base_uri": "https://localhost:8080/",
     "height": 72,
     "output_extras": [
      {
       "item_id": 1
      }
     ]
    },
    "colab_type": "code",
    "executionInfo": {
     "elapsed": 5794,
     "status": "ok",
     "timestamp": 1522446976412,
     "user": {
      "displayName": "Рамиль Г",
      "photoUrl": "//lh4.googleusercontent.com/-8aSyWSiuugc/AAAAAAAAAAI/AAAAAAAACj0/jvk5E13FNMY/s50-c-k-no/photo.jpg",
      "userId": "115296759250209017991"
     },
     "user_tz": -180
    },
    "id": "15x4vmpm4nOG",
    "outputId": "75fbed76-4334-4037-8083-49f91a7356fb"
   },
   "outputs": [
    {
     "name": "stdout",
     "output_type": "stream",
     "text": [
      "INFO:tensorflow:Using the Keras model from memory.\n",
      "INFO:tensorflow:Using config: {'_model_dir': 'out', '_tf_random_seed': None, '_save_summary_steps': 10, '_save_checkpoints_steps': None, '_save_checkpoints_secs': 600, '_session_config': None, '_keep_checkpoint_max': 5, '_keep_checkpoint_every_n_hours': 10000, '_log_step_count_steps': 100, '_service': None, '_cluster_spec': <tensorflow.python.training.server_lib.ClusterSpec object at 0x7f9ebebb9e80>, '_task_type': 'worker', '_task_id': 0, '_global_id_in_cluster': 0, '_master': '', '_evaluation_master': '', '_is_chief': True, '_num_ps_replicas': 0, '_num_worker_replicas': 1}\n"
     ]
    }
   ],
   "source": [
    "def auc(y_true, y_pred):\n",
    "    value, update_op = tf.metrics.auc(y_true, y_pred)\n",
    "    \n",
    "    with tf.control_dependencies([update_op]):\n",
    "        value = tf.identity(value, \"auc_r\")\n",
    "        return value\n",
    "\n",
    "base_model = xception.Xception(include_top=False, weights='imagenet', input_shape=(299, 299,3))\n",
    "x = base_model.output\n",
    "\n",
    "x = GlobalAveragePooling2D()(x)\n",
    "x = Dense(1024, activation='relu')(x)\n",
    "\n",
    "predictions = Dense(196, activation='softmax')(x)\n",
    "\n",
    "model = Model(inputs=base_model.input, outputs=predictions)\n",
    "\n",
    "run_config = tf.estimator.RunConfig()\n",
    "run_config = run_config.replace(keep_checkpoint_max=5, save_summary_steps=10)\n",
    "model.compile(optimizer=optimizers.Adam(lr=0.0001), \n",
    "              loss='categorical_crossentropy', metrics=['accuracy', metrics.top_k_categorical_accuracy, metrics.mean_absolute_error, auc])\n",
    "est = tf.keras.estimator.model_to_estimator(model, model_dir='out', config=run_config)"
   ]
  },
  {
   "cell_type": "code",
   "execution_count": 0,
   "metadata": {
    "colab": {
     "autoexec": {
      "startup": false,
      "wait_interval": 0
     }
    },
    "colab_type": "code",
    "collapsed": true,
    "id": "Xx58EdW-qYXO"
   },
   "outputs": [],
   "source": [
    "DATASET_FILE = 'cars_annos'\n",
    "seed = 123\n",
    "n_threads = 2\n",
    "image_size=299\n",
    "BATCH_SIZE=32"
   ]
  },
  {
   "cell_type": "code",
   "execution_count": 0,
   "metadata": {
    "colab": {
     "autoexec": {
      "startup": false,
      "wait_interval": 0
     }
    },
    "colab_type": "code",
    "collapsed": true,
    "id": "oJTidzzgqYeB"
   },
   "outputs": [],
   "source": [
    "def parse_example_proto(example_serialized):\n",
    "    # Dense features in Example proto.\n",
    "    feature_map = {\n",
    "        'image/encoded': tf.FixedLenFeature([], dtype=tf.string,\n",
    "                                            default_value=''),\n",
    "        'image/class/label': tf.FixedLenFeature([1], dtype=tf.int64,\n",
    "                                                default_value=-1),\n",
    "        'image/class/text': tf.FixedLenFeature([], dtype=tf.string,\n",
    "                                               default_value=''),\n",
    "        'image/height': tf.FixedLenFeature([1], dtype=tf.int64,\n",
    "                                                default_value=-1),\n",
    "        'image/width': tf.FixedLenFeature([1], dtype=tf.int64,\n",
    "                                                default_value=-1),\n",
    "    }\n",
    "    sparse_float32 = tf.VarLenFeature(dtype=tf.float32)\n",
    "    # Sparse features in Example proto.\n",
    "    feature_map.update(\n",
    "        {k: sparse_float32 for k in ['image/object/bbox/xmin',\n",
    "                                     'image/object/bbox/ymin',\n",
    "                                     'image/object/bbox/xmax',\n",
    "                                     'image/object/bbox/ymax']})\n",
    "\n",
    "    features = tf.parse_single_example(example_serialized, feature_map)\n",
    "    label = tf.cast(features['image/class/label'], dtype=tf.int32)\n",
    "    label = tf.subtract(label, 1)\n",
    "    \n",
    "    label = tf.one_hot(label, depth=196, on_value=1.0, off_value=0.0)\n",
    "    label = tf.squeeze(label)\n",
    "    \n",
    "    xmin = tf.cast(tf.reshape(features['image/object/bbox/xmin'].values, shape=[]), dtype=tf.int32)\n",
    "    ymin = tf.cast(tf.reshape(features['image/object/bbox/ymin'].values, shape=[]), dtype=tf.int32)\n",
    "    xmax = tf.cast(tf.reshape(features['image/object/bbox/xmax'].values, shape=[]), dtype=tf.int32)\n",
    "    ymax = tf.cast(tf.reshape(features['image/object/bbox/ymax'].values, shape=[]), dtype=tf.int32)\n",
    "    \n",
    "    tg_y = tf.subtract(ymax, ymin)\n",
    "    tg_x = tf.subtract(xmax, xmin)\n",
    "\n",
    "    return features['image/encoded'], label, xmin, ymin, tg_x, tg_y, features['image/class/text']"
   ]
  },
  {
   "cell_type": "code",
   "execution_count": 0,
   "metadata": {
    "colab": {
     "autoexec": {
      "startup": false,
      "wait_interval": 0
     }
    },
    "colab_type": "code",
    "collapsed": true,
    "id": "XrcJalX_4nfm"
   },
   "outputs": [],
   "source": [
    "def decode_jpeg(image_buffer, scope=None):\n",
    "    \"\"\"Decode a JPEG string into one 3-D float image Tensor.\n",
    "\n",
    "    Args:\n",
    "      image_buffer: scalar string Tensor.\n",
    "      scope: Optional scope for name_scope.\n",
    "    Returns:\n",
    "      3-D float Tensor with values ranging from [0, 1).\n",
    "    \"\"\"\n",
    "    with tf.name_scope(values=[image_buffer], name=scope,\n",
    "                       default_name='decode_jpeg'):\n",
    "        # Decode the string as an RGB JPEG.\n",
    "        # Note that the resulting image contains an unknown height and width\n",
    "        # that is set dynamically by decode_jpeg. In other words, the height\n",
    "        # and width of image is unknown at compile-time.\n",
    "        image = tf.image.decode_jpeg(image_buffer, channels=3)\n",
    "\n",
    "        # After this point, all image pixels reside in [0,1)\n",
    "        # until the very end, when they're rescaled to (-1, 1).  The various\n",
    "        # adjust_* ops all require this range for dtype float.\n",
    "        image = tf.image.convert_image_dtype(image, dtype=tf.float32)\n",
    "        return image"
   ]
  },
  {
   "cell_type": "code",
   "execution_count": 0,
   "metadata": {
    "colab": {
     "autoexec": {
      "startup": false,
      "wait_interval": 0
     }
    },
    "colab_type": "code",
    "collapsed": true,
    "id": "_7mg_juZsj8p"
   },
   "outputs": [],
   "source": [
    "def apply_with_random_selector(x, func, num_cases):\n",
    "    \"\"\"Computes func(x, sel), with sel sampled from [0...num_cases-1].\n",
    "\n",
    "    Args:\n",
    "      x: input Tensor.\n",
    "      func: Python function to apply.\n",
    "      num_cases: Python int32, number of cases to sample sel from.\n",
    "\n",
    "    Returns:\n",
    "      The result of func(x, sel), where func receives the value of the\n",
    "      selector as a python integer, but sel is sampled dynamically.\n",
    "    \"\"\"\n",
    "    \n",
    "    sel = tf.random_uniform([], maxval=num_cases, dtype=tf.int32)\n",
    "    # Pass the real x only to one of the func calls.\n",
    "    return control_flow_ops.merge([\n",
    "        func(tf.python.ops.control_flow_ops.switch(x, tf.equal(sel, case))[1], case)\n",
    "        for case in range(num_cases)])[0]\n",
    "\n",
    "def image_preprocessing(image_buffer, xmin, ymin, tg_x, tg_y, train=True):\n",
    "\n",
    "    image = decode_jpeg(image_buffer)\n",
    "\n",
    "    if train:\n",
    "        distorted_image = tf.image.crop_to_bounding_box(image, ymin, xmin, tg_y, tg_x)\n",
    "        distorted_image = tf.image.resize_images(distorted_image, [image_size, image_size],\n",
    "                                                 method=0)\n",
    "        distorted_image.set_shape([image_size, image_size, 3])\n",
    "        distorted_image = tf.image.random_flip_left_right(distorted_image)\n",
    "        \n",
    "    else:\n",
    "        distorted_image = tf.image.crop_to_bounding_box(image, ymin, xmin, tg_y, tg_x)\n",
    "        distorted_image = tf.image.resize_images(distorted_image, [image_size, image_size], method=0)\n",
    "        distorted_image.set_shape([image_size, image_size, 3])\n",
    "\n",
    "    return distorted_image\n"
   ]
  },
  {
   "cell_type": "code",
   "execution_count": 0,
   "metadata": {
    "colab": {
     "autoexec": {
      "startup": false,
      "wait_interval": 0
     }
    },
    "colab_type": "code",
    "collapsed": true,
    "id": "6HiPozi6skBF"
   },
   "outputs": [],
   "source": [
    "def parse_fn(example):\n",
    "    image, label, xmin, ymin, tg_x, tg_y, _ = parse_example_proto(example)\n",
    "    image = image_preprocessing(image, xmin, ymin, tg_x, tg_y)\n",
    "    return {'input_1':image}, label\n",
    "    "
   ]
  },
  {
   "cell_type": "code",
   "execution_count": 0,
   "metadata": {
    "colab": {
     "autoexec": {
      "startup": false,
      "wait_interval": 0
     }
    },
    "colab_type": "code",
    "collapsed": true,
    "id": "8CQJdnAUskZp"
   },
   "outputs": [],
   "source": [
    "def input_fn():\n",
    "    with tf.device('/cpu:0'):\n",
    "        files = tf.data.Dataset.list_files(\"train/train-*\")\n",
    "        dataset = files.interleave(tf.data.TFRecordDataset, 1)\n",
    "        dataset = dataset.apply(tf.contrib.data.shuffle_and_repeat(1150))\n",
    "        dataset = dataset.map(map_func=parse_fn, num_parallel_calls=n_threads)\n",
    "        dataset = dataset.batch(batch_size=BATCH_SIZE)\n",
    "        dataset = dataset.prefetch(buffer_size=BATCH_SIZE)\n",
    "        iterator = dataset.make_one_shot_iterator()\n",
    "        batch_features, batch_labels = iterator.get_next()\n",
    "\n",
    "    return batch_features, batch_labels\n",
    "\n",
    "\n",
    "def input_test():\n",
    "    def parse_eval(example):\n",
    "        image, label, xmin, ymin, tg_x, tg_y, _ = parse_example_proto(example)\n",
    "        image = image_preprocessing(image, xmin, ymin, tg_x, tg_y, False)\n",
    "        return {'input_1':image}, label\n",
    "    \n",
    "    with tf.device('/cpu:0'):\n",
    "        files = tf.data.Dataset.list_files(\"test/test-*\")\n",
    "        dataset = files.interleave(tf.data.TFRecordDataset, 1)\n",
    "        dataset = dataset.map(map_func=parse_eval, num_parallel_calls=n_threads)\n",
    "        dataset = dataset.batch(batch_size=BATCH_SIZE)\n",
    "        dataset = dataset.prefetch(buffer_size=BATCH_SIZE)\n",
    "        iterator = dataset.make_one_shot_iterator()\n",
    "        batch_features, batch_labels = iterator.get_next()\n",
    "\n",
    "    return batch_features, batch_labels"
   ]
  },
  {
   "cell_type": "code",
   "execution_count": null,
   "metadata": {
    "collapsed": true
   },
   "outputs": [],
   "source": [
    "with tf.device('/gpu:0'):\n",
    "    est.train(input_fn=input_fn)"
   ]
  },
  {
   "cell_type": "code",
   "execution_count": 10,
   "metadata": {
    "colab": {
     "autoexec": {
      "startup": false,
      "wait_interval": 0
     },
     "base_uri": "https://localhost:8080/",
     "height": 193,
     "output_extras": [
      {
       "item_id": 8
      }
     ]
    },
    "colab_type": "code",
    "executionInfo": {
     "elapsed": 101292,
     "status": "ok",
     "timestamp": 1522447205750,
     "user": {
      "displayName": "Рамиль Г",
      "photoUrl": "//lh4.googleusercontent.com/-8aSyWSiuugc/AAAAAAAAAAI/AAAAAAAACj0/jvk5E13FNMY/s50-c-k-no/photo.jpg",
      "userId": "115296759250209017991"
     },
     "user_tz": -180
    },
    "id": "Nq278s_t3Qcg",
    "outputId": "22e21235-d7ea-418a-836b-9b12ff9b673f"
   },
   "outputs": [
    {
     "name": "stdout",
     "output_type": "stream",
     "text": [
      "INFO:tensorflow:Calling model_fn.\n",
      "INFO:tensorflow:Done calling model_fn.\n",
      "INFO:tensorflow:Starting evaluation at 2018-03-30-21:58:31\n",
      "INFO:tensorflow:Graph was finalized.\n",
      "INFO:tensorflow:Restoring parameters from out/model.ckpt-4120\n",
      "INFO:tensorflow:Running local_init_op.\n",
      "INFO:tensorflow:Done running local_init_op.\n",
      "INFO:tensorflow:Finished evaluation at 2018-03-30-22:00:03\n",
      "INFO:tensorflow:Saving dict for global step 4120: accuracy = 0.89398307, auc = 0.9821672, global_step = 4120, loss = 0.44598448, mean_absolute_error = 0.0014631139, top_k_categorical_accuracy = 0.98005754\n"
     ]
    }
   ],
   "source": [
    "with tf.device('/gpu:0'):\n",
    "    est.evaluate(input_fn=input_test, name=\"ch1\")"
   ]
  },
  {
   "cell_type": "code",
   "execution_count": 0,
   "metadata": {
    "colab": {
     "autoexec": {
      "startup": false,
      "wait_interval": 0
     }
    },
    "colab_type": "code",
    "collapsed": true,
    "id": "43BF7lFb4dyZ"
   },
   "outputs": [],
   "source": [
    "onlyfiles = ['out/' + f for f in listdir('out') if isfile(join('out', f))]\n"
   ]
  },
  {
   "cell_type": "code",
   "execution_count": 0,
   "metadata": {
    "colab": {
     "autoexec": {
      "startup": false,
      "wait_interval": 0
     }
    },
    "colab_type": "code",
    "collapsed": true,
    "id": "qAlM4jDAsipe"
   },
   "outputs": [],
   "source": [
    "def find_folders(fldname):\n",
    "    file_list = drive.ListFile({\n",
    "        'q': \"title='{}' and mimeType contains 'application/vnd.google-apps.folder' and trashed=false\".format(fldname)\n",
    "        }).GetList()\n",
    "    return file_list\n",
    "\n",
    "def upload_files_to_folder(fnames, folder):\n",
    "    for fname in fnames: \n",
    "        nfile = drive.CreateFile({'title':os.path.basename(fname),\n",
    "                                  'parents':[{u'id': folder['id']}]})\n",
    "        nfile.SetContentFile(fname)\n",
    "        nfile.Upload()"
   ]
  },
  {
   "cell_type": "code",
   "execution_count": 4,
   "metadata": {
    "colab": {
     "autoexec": {
      "startup": false,
      "wait_interval": 0
     },
     "base_uri": "https://localhost:8080/",
     "height": 34,
     "output_extras": [
      {
       "item_id": 1
      }
     ]
    },
    "colab_type": "code",
    "executionInfo": {
     "elapsed": 1686,
     "status": "ok",
     "timestamp": 1522446779338,
     "user": {
      "displayName": "Рамиль Г",
      "photoUrl": "//lh4.googleusercontent.com/-8aSyWSiuugc/AAAAAAAAAAI/AAAAAAAACj0/jvk5E13FNMY/s50-c-k-no/photo.jpg",
      "userId": "115296759250209017991"
     },
     "user_tz": -180
    },
    "id": "URd6sF9Mvhek",
    "outputId": "3594085b-22d4-4e6c-c5f9-6667b2e820df"
   },
   "outputs": [
    {
     "name": "stdout",
     "output_type": "stream",
     "text": [
      "datalab  out  test  train\r\n"
     ]
    }
   ],
   "source": [
    "flds = find_folders('kek')\n",
    "upload_files_to_folder(['out/eval_ch1'], flds[0])"
   ]
  }
 ],
 "metadata": {
  "accelerator": "GPU",
  "colab": {
   "collapsed_sections": [],
   "default_view": {},
   "name": "keras_tf.ipynb",
   "provenance": [],
   "toc_visible": true,
   "version": "0.3.2",
   "views": {}
  },
  "kernelspec": {
   "display_name": "Python 3",
   "language": "python",
   "name": "python3"
  },
  "language_info": {
   "codemirror_mode": {
    "name": "ipython",
    "version": 3
   },
   "file_extension": ".py",
   "mimetype": "text/x-python",
   "name": "python",
   "nbconvert_exporter": "python",
   "pygments_lexer": "ipython3",
   "version": "3.6.1"
  }
 },
 "nbformat": 4,
 "nbformat_minor": 1
}
